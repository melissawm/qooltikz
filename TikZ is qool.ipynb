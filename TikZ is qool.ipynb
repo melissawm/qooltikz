{
 "cells": [
  {
   "cell_type": "markdown",
   "metadata": {},
   "source": [
    "With TikZ, you can generate figures programmatically. Other solutions exist, but [I think TikZ is qool](https://texample.net/tikz/examples/all/). "
   ]
  },
  {
   "cell_type": "markdown",
   "metadata": {},
   "source": [
    "### What is this?\n",
    "\n",
    "- [TeX](https://en.wikipedia.org/wiki/TeX) was designed with two main goals in mind: to allow anybody to produce high-quality books with minimal effort, and to provide a system that would give exactly the same results on all computers, at any point in time (together with the Metafont language for font description and the Computer Modern family of typefaces)\n",
    "- [Metafont](https://en.wikipedia.org/wiki/Metafont) is a description language used to define raster fonts.\n",
    "- [Metapost](https://en.wikipedia.org/wiki/MetaPost) is a programming language (derived from Metafont) that produces vector graphic diagrams from a geometric/algebraic description.\n",
    "\n",
    "#### Finally: \"TikZ ist kein Zeichenprogramm\", by Till Tantau (2005)\n",
    "\n",
    "[PGF/TikZ](https://en.wikipedia.org/wiki/PGF/TikZ) is a pair of languages (resembling Metapost) for producing vector graphics from a geometric/algebraic description. PGF is a lower-level language, while TikZ is a set of higher-level macros that use PGF. "
   ]
  },
  {
   "cell_type": "markdown",
   "metadata": {},
   "source": [
    "You can find the `tikzmagic` [on github](https://github.com/mkrphys/ipython-tikzmagic)"
   ]
  },
  {
   "cell_type": "code",
   "execution_count": null,
   "metadata": {
    "scrolled": true
   },
   "outputs": [],
   "source": [
    "%load_ext tikzmagic"
   ]
  },
  {
   "cell_type": "markdown",
   "metadata": {},
   "source": [
    "The basic execution does not work for me; due to security concerns this command does not work on Arch based linux distros (and possibly others)."
   ]
  },
  {
   "cell_type": "code",
   "execution_count": null,
   "metadata": {},
   "outputs": [],
   "source": [
    "%tikz \\draw (0,0) rectangle (1,1);"
   ]
  },
  {
   "cell_type": "markdown",
   "metadata": {},
   "source": [
    "The next one, however, does:"
   ]
  },
  {
   "cell_type": "code",
   "execution_count": null,
   "metadata": {},
   "outputs": [],
   "source": [
    "%%tikz -f svg\n",
    "\\draw (0,0) rectangle (1,1);\n",
    "\\filldraw (0.5,0.5) circle (.1);"
   ]
  },
  {
   "cell_type": "markdown",
   "metadata": {},
   "source": [
    "Let's go for something [qooler](https://texample.net/tikz/examples/coffee-cup/):"
   ]
  },
  {
   "cell_type": "code",
   "execution_count": null,
   "metadata": {},
   "outputs": [],
   "source": [
    "%%tikz --size 500,500 -f svg\n",
    "  \\foreach \\c [count=\\i from 0] in {white,red!75!black,blue!25,orange}{\n",
    "\n",
    "    \\tikzset{xshift={mod(\\i,2)*3cm}, yshift=-floor(\\i/2)*3cm}\n",
    "    \\colorlet{cup}{\\c}\n",
    "\n",
    "    % Saucer\n",
    "    \\begin{scope}[shift={(0,-1-1/16)}]\n",
    "      \\fill [cup, postaction={left color=black, right color=white, opacity=1/3}] \n",
    "        (0,0) ++(180:5/4) arc (180:360:5/4 and 5/8+1/16);\n",
    "      \\fill [cup, postaction={left color=black!50, right color=white, opacity=1/3}] \n",
    "        (0,0) ellipse [x radius=5/4, y radius=5/8];\n",
    "      \\fill [cup, postaction={left color=white, right color=black, opacity=1/3}]\n",
    "        (0,1/16) ellipse [x radius=5/4/2, y radius=5/8/2];\n",
    "      \\fill [cup, postaction={left color=black, right color=white, opacity=1/3}] \n",
    "        (0,0) ellipse [x radius=5/4/2-1/16, y radius=5/8/2-1/16];\n",
    "    \\end{scope} \n",
    "\n",
    "    % Handle\n",
    "    \\begin{scope}[shift=(10:7/8), rotate=-30, yslant=1/2, xslant=-1/8]\n",
    "      \\fill [cup, postaction={top color=black, bottom color=white, opacity=1/3}] \n",
    "        (0,0) arc (130:-100:3/8 and 1/2) -- ++(0,1/4) arc (-100:130:1/8 and 1/4)\n",
    "        -- cycle;\n",
    "      \\fill [cup, postaction={top color=white, bottom color=black, opacity=1/3}] \n",
    "        (0,0) arc (130:-100:3/8 and 1/2) -- ++(0,1/32) arc (-100:130:1/4 and 1/3)\n",
    "        -- cycle;\n",
    "    \\end{scope}\n",
    "\n",
    "    % Cup\n",
    "    \\fill [cup, postaction={left color=black, right color=white, opacity=1/3/2},\n",
    "      postaction={bottom color=black, top color=white, opacity=1/3/2}] \n",
    "      (-1,0) arc (180:360:1 and 5/4);\n",
    "    \\fill [cup, postaction={left color=white, right color=black, opacity=1/3}] \n",
    "      (0,0) ellipse [x radius=1, y radius=1/2];\n",
    "    \\fill [cup, postaction={left color=black, right color=white, opacity=1/3/2},\n",
    "      postaction={bottom color=black, top color=white, opacity=1/3/2}] \n",
    "      (0,0) ellipse [x radius=1-1/16, y radius=1/2-1/16];\n",
    "\n",
    "    % Coffee\n",
    "    \\begin{scope}\n",
    "      \\clip ellipse [x radius=1-1/16, y radius=1/2-1/16];\n",
    "      \\fill [brown!25!black] \n",
    "        (0,-1/4) ellipse [x radius=3/4, y radius=3/8];\n",
    "    \\end{scope}\n",
    "  }"
   ]
  },
  {
   "cell_type": "markdown",
   "metadata": {},
   "source": [
    "Something that might actually be useful (from the tikzmagic docs):"
   ]
  },
  {
   "cell_type": "code",
   "execution_count": null,
   "metadata": {},
   "outputs": [],
   "source": [
    "%%tikz -s 600,600 -f svg\n",
    "\\draw [style=help lines, step=2] (-1,-1) grid (+7,+7);\n",
    "\\draw [line width=0.5mm, fill=blue!40!white] (+2,+2) rectangle (+4,+4);\n",
    " \n",
    "\\draw [blue!60!white] (2, 2) node[anchor=north east] {$(i  ,j  )$};\n",
    "\\draw [blue!60!white] (4, 2) node[anchor=north west] {$(i+1,j  )$};\n",
    "\\draw [blue!60!white] (4, 4) node[anchor=south west] {$(i+1,j+1)$};\n",
    "\\draw [blue!60!white] (2, 4) node[anchor=south east] {$(i  ,j+1)$};\n",
    "\n",
    "\\filldraw [color=gray] (0,0) circle (.1);\n",
    "\\filldraw [color=gray] (0,2) circle (.1);\n",
    "\\filldraw [color=gray] (0,4) circle (.1);\n",
    "\\filldraw [color=gray] (0,6) circle (.1);\n",
    "\\filldraw [color=gray] (2,0) circle (.1);\n",
    "\\filldraw [color=black] (2,2) circle (.1);\n",
    "\\filldraw [color=black] (2,4) circle (.1);\n",
    "\\filldraw [color=gray] (2,6) circle (.1);\n",
    "\\filldraw [color=gray] (4,0) circle (.1);\n",
    "\\filldraw [color=black] (4,2) circle (.1);\n",
    "\\filldraw [color=black] (4,4) circle (.1);\n",
    "\\filldraw [color=gray] (4,6) circle (.1);\n",
    "\\filldraw [color=gray] (6,0) circle (.1);\n",
    "\\filldraw [color=gray] (6,2) circle (.1);\n",
    "\\filldraw [color=gray] (6,4) circle (.1);\n",
    "\\filldraw [color=gray] (6,6) circle (.1);"
   ]
  },
  {
   "cell_type": "markdown",
   "metadata": {},
   "source": [
    "Last example:"
   ]
  },
  {
   "cell_type": "code",
   "execution_count": null,
   "metadata": {},
   "outputs": [],
   "source": [
    "%%tikz -l decorations.text -s 600,600 -f svg \n",
    "\n",
    "\\node (One) at (-3,0) [shape=circle,draw] {$One$}; \n",
    "\\node (Two) at (3,0) [shape=circle,draw] {$Two$};\n",
    "\\node (Three) at (2, 2) [shape=rectangle, draw] {$Thr\\epsilon \\epsilon$};\n",
    "\\def\\myshift#1{\\raisebox{-2.5ex}}\n",
    "\\draw [->,\n",
    "       thick,\n",
    "       postaction={decorate,\n",
    "                   decoration={text along path,text align=center, text={Some bent text}}}\n",
    "      ] (One) to [bend right=45]  (Two);\n",
    "\\draw [->,\n",
    "       thick,\n",
    "       postaction={decorate,\n",
    "                   decoration={text along path,text align=center, text={Some more bent text}}}\n",
    "      ] (One) .. controls (-3,4) .. (Three);"
   ]
  },
  {
   "cell_type": "code",
   "execution_count": null,
   "metadata": {},
   "outputs": [],
   "source": []
  }
 ],
 "metadata": {
  "kernelspec": {
   "display_name": "Python 3",
   "language": "python",
   "name": "python3"
  },
  "language_info": {
   "codemirror_mode": {
    "name": "ipython",
    "version": 3
   },
   "file_extension": ".py",
   "mimetype": "text/x-python",
   "name": "python",
   "nbconvert_exporter": "python",
   "pygments_lexer": "ipython3",
   "version": "3.8.5"
  }
 },
 "nbformat": 4,
 "nbformat_minor": 4
}
